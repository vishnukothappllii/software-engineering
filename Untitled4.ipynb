{
  "nbformat": 4,
  "nbformat_minor": 0,
  "metadata": {
    "colab": {
      "provenance": []
    },
    "kernelspec": {
      "name": "python3",
      "display_name": "Python 3"
    },
    "language_info": {
      "name": "python"
    }
  },
  "cells": [
    {
      "cell_type": "code",
      "execution_count": 1,
      "metadata": {
        "id": "IZ5wpEFAVUnL",
        "outputId": "c0df5ad7-a15c-4251-85fd-35ddb3166f90",
        "colab": {
          "base_uri": "https://localhost:8080/"
        }
      },
      "outputs": [
        {
          "output_type": "stream",
          "name": "stdout",
          "text": [
            "[2, 3, 5, 7, 11]\n"
          ]
        }
      ],
      "source": [
        "def is_prime(num):\n",
        "    if num < 2:\n",
        "        return False\n",
        "    for i in range(2, int(num ** 0.5) + 1):\n",
        "        if num % i == 0:\n",
        "            return False\n",
        "    return True\n",
        "\n",
        "primes = []\n",
        "candidate = 2\n",
        "\n",
        "while len(primes) < 5:\n",
        "    if is_prime(candidate):\n",
        "        primes.append(candidate)\n",
        "    candidate += 1\n",
        "\n",
        "print(primes)\n"
      ]
    }
  ]
}