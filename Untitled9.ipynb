{
  "nbformat": 4,
  "nbformat_minor": 0,
  "metadata": {
    "colab": {
      "provenance": [],
      "mount_file_id": "1oKJBBcObF53eQEGZUrUDOiGXgGlkdXPK",
      "authorship_tag": "ABX9TyOjtVsyGRWHTQLbDj1ifz0Z",
      "include_colab_link": true
    },
    "kernelspec": {
      "name": "python3",
      "display_name": "Python 3"
    },
    "language_info": {
      "name": "python"
    }
  },
  "cells": [
    {
      "cell_type": "markdown",
      "metadata": {
        "id": "view-in-github",
        "colab_type": "text"
      },
      "source": [
        "<a href=\"https://colab.research.google.com/github/vishnukothappllii/software-engineering/blob/main/Untitled9.ipynb\" target=\"_parent\"><img src=\"https://colab.research.google.com/assets/colab-badge.svg\" alt=\"Open In Colab\"/></a>"
      ]
    },
    {
      "cell_type": "code",
      "source": [
        "file_path = '/content/TempHumiWind.csv'"
      ],
      "metadata": {
        "id": "twU5DFTupx-l"
      },
      "execution_count": 12,
      "outputs": []
    },
    {
      "cell_type": "code",
      "source": [
        "import pandas as pd\n",
        "import os\n",
        "\n",
        "def load_and_clean_data(file_path):\n",
        "\n",
        "    if os.path.exists(file_path):\n",
        "        try:\n",
        "            df = pd.read_csv(file_path)\n",
        "            df.columns = df.columns.str.strip()\n",
        "            print(\"Dataset loaded and cleaned successfully!\")\n",
        "            return df\n",
        "        except Exception as e:\n",
        "            print(\"Error loading the file:\", e)\n",
        "            return None\n",
        "    else:\n",
        "        print(f\"File does not exist at the path: {file_path}\")\n",
        "        return None"
      ],
      "metadata": {
        "id": "v19Hnodpp4Lz"
      },
      "execution_count": 13,
      "outputs": []
    },
    {
      "cell_type": "code",
      "source": [
        "def get_user_input():\n",
        "\n",
        "    user_input = input(\"\\nEnter city names separated by commas (e.g., Mumbai, Delhi): \")\n",
        "    return [city.strip() for city in user_input.split(\",\")]"
      ],
      "metadata": {
        "id": "VFFo3h5Lp-VT"
      },
      "execution_count": 14,
      "outputs": []
    },
    {
      "cell_type": "code",
      "source": [
        "def validate_cities(user_cities, valid_cities):\n",
        "\n",
        "    matched_cities = [city for city in user_cities if city in valid_cities]\n",
        "    if not matched_cities:\n",
        "        print(\"No valid cities found in the dataset. Exiting.\")\n",
        "        return []\n",
        "    else:\n",
        "        print(f\"\\nProcessing data for the following matched cities: {matched_cities}\")\n",
        "        return matched_cities\n"
      ],
      "metadata": {
        "id": "R3FW-27_qDsW"
      },
      "execution_count": 15,
      "outputs": []
    },
    {
      "cell_type": "code",
      "source": [
        "def calculate_weather(temp, humidity, wind_speed):\n",
        "\n",
        "    W = (0.5 * temp**2) - (0.2 * humidity) + (0.1 * wind_speed) - 15\n",
        "    return W\n",
        "\n",
        "def categorize_weather(W):\n",
        "\n",
        "    if W > 300:\n",
        "        return \"Cloudy\"\n",
        "    elif 200 < W <= 300:\n",
        "        return \"Sunny\"\n",
        "    else:\n",
        "        return \"Rainy\"\n"
      ],
      "metadata": {
        "id": "T_J1bpRpqG1m"
      },
      "execution_count": 16,
      "outputs": []
    },
    {
      "cell_type": "code",
      "source": [
        "def process_and_output_weather(matched_cities, df, manual_input):\n",
        "\n",
        "    for city in matched_cities:\n",
        "        if manual_input == 'yes':\n",
        "            print(f\"\\nEnter data for {city}:\")\n",
        "            temp = float(input(\"Enter Temperature (°C): \"))\n",
        "            humidity = float(input(\"Enter Humidity (%): \"))\n",
        "            wind_speed = float(input(\"Enter Wind Speed (m/s): \"))\n",
        "        else:\n",
        "            city_data = df[df[\"CITY\"] == city].iloc[0]\n",
        "            temp = city_data[\"TEMPERATURE\"]\n",
        "            humidity = city_data[\"HUMIDITY\"]\n",
        "            wind_speed = city_data[\"WIND SPEED\"]\n",
        "\n",
        "\n",
        "        modeled_weather = calculate_weather(temp, humidity, wind_speed)\n",
        "        weather_condition = categorize_weather(modeled_weather)\n",
        "\n",
        "        print(\n",
        "            f\"\\nCity: {city}\\n\"\n",
        "            f\"Temperature: {temp} °C\\n\"\n",
        "            f\"Humidity: {humidity} %\\n\"\n",
        "            f\"Wind Speed: {wind_speed} m/s\\n\"\n",
        "            f\"Calculated Weather Value (W): {modeled_weather:.2f}\\n\"\n",
        "            f\"Weather Condition: {weather_condition}\\n\"\n",
        "        )\n",
        "\n",
        "\n",
        "\n"
      ],
      "metadata": {
        "id": "pzN8DeozqKB9"
      },
      "execution_count": 17,
      "outputs": []
    },
    {
      "cell_type": "code",
      "source": [
        "def main():\n",
        "\n",
        "\n",
        "    file_path = '/content/TempHumiWind.csv'\n",
        "    df = load_and_clean_data(file_path)\n",
        "    if df is None:\n",
        "        return\n",
        "\n",
        "\n",
        "    user_cities = get_user_input()\n",
        "\n",
        "\n",
        "    valid_cities = df[\"CITY\"].unique()\n",
        "    matched_cities = validate_cities(user_cities, valid_cities)\n",
        "\n",
        "    if not matched_cities:\n",
        "        return\n",
        "\n",
        "\n",
        "    manual_input = input(\"\\nWould you like to manually input weather data for cities? (yes/no): \").strip().lower()\n",
        "\n",
        "\n",
        "    process_and_output_weather(matched_cities, df, manual_input)\n",
        "\n",
        "\n",
        "    another_round = input(\"\\nWould you like to process another set of cities? (yes/no): \").strip().lower()\n",
        "    if another_round == 'yes':\n",
        "        main()\n",
        "\n",
        "if __name__ == \"__main__\":\n",
        "    main()\n"
      ],
      "metadata": {
        "colab": {
          "base_uri": "https://localhost:8080/"
        },
        "id": "N3KsASYQqmDm",
        "outputId": "1840d3dd-151f-45ff-be7e-090b33bcddf5"
      },
      "execution_count": 19,
      "outputs": [
        {
          "name": "stdout",
          "output_type": "stream",
          "text": [
            "Dataset loaded and cleaned successfully!\n",
            "\n",
            "Enter city names separated by commas (e.g., Mumbai, Delhi): Delhi\n",
            "\n",
            "Processing data for the following matched cities: ['Delhi']\n",
            "\n",
            "Would you like to manually input weather data for cities? (yes/no): no\n",
            "\n",
            "City: Delhi\n",
            "Temperature: 20 °C\n",
            "Humidity: 50 %\n",
            "Wind Speed: 4.5 m/s\n",
            "Calculated Weather Value (W): 175.45\n",
            "Weather Condition: Rainy\n",
            "\n",
            "\n",
            "Would you like to process another set of cities? (yes/no): no\n"
          ]
        }
      ]
    }
  ]
}